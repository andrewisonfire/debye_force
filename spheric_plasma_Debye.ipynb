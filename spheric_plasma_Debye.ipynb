{
 "cells": [
  {
   "cell_type": "code",
   "execution_count": 1,
   "metadata": {
    "collapsed": true
   },
   "outputs": [],
   "source": [
    "import time\n",
    "import numpy as np\n",
    "import scipy as sp\n",
    "import matplotlib.pyplot as plt\n",
    "from scipy import linalg\n",
    "from scipy import special as spc\n",
    "##############################################################\n",
    "nmax = 7\n",
    "msteps = 100\n",
    "##############################################################\n",
    "EULER = 2.71828182845904523536028747135266249775724709369995\n",
    "pi = 3.14159265358979323846264338327950288419716939937510\n",
    "eee = -4.803204673e-10\n",
    "##############################################################\n",
    "eps,eps1,eps2 =1.0,25.0,25.0\n",
    "a1r,a2r = 10.0e-4,10.0e-4\n",
    "q1r = 1000.0\n",
    "k_d = 100.0\n",
    "##############################################################\n",
    "a1 = k_d * a1r\n",
    "a2 = k_d * a2r\n",
    "q1 = q1r * eee\n",
    "q2 = q1 * a2r / a1r\n",
    "q1inf = q1 * (1. + a1)\n",
    "q2inf = q2 * (1. + a2)\n",
    "##############################################################\n",
    "L_min = 10e-7 #**(-6)\n",
    "L_max = 10e-2 #**(-1)"
   ]
  },
  {
   "cell_type": "code",
   "execution_count": 2,
   "metadata": {
    "collapsed": true
   },
   "outputs": [],
   "source": [
    "def getQ(nmax):\n",
    "    q = np.zeros((nmax,nmax))\n",
    "    for n in range(nmax):\n",
    "        #tmp = spc.legendre(n,[])\n",
    "        for i in range(nmax):\n",
    "            q[n,i] = spc.legendre(n,[])[i]\n",
    "    return q"
   ]
  },
  {
   "cell_type": "code",
   "execution_count": 3,
   "metadata": {
    "collapsed": true
   },
   "outputs": [],
   "source": [
    "def getG(nmax):\n",
    "    g = np.zeros((nmax,nmax,nmax))\n",
    "    for alpha in range(nmax):\n",
    "        alpha_tmp = alpha + 0.5\n",
    "        for n in range(nmax):  \n",
    "            tmp = spc.gegenbauer(n,alpha_tmp,[])\n",
    "            for i in range(nmax):\n",
    "                g[alpha,n,i] = tmp[i]\n",
    "    return g"
   ]
  },
  {
   "cell_type": "code",
   "execution_count": 4,
   "metadata": {
    "collapsed": true
   },
   "outputs": [],
   "source": [
    "def getP(nmax):\n",
    "    p = np.zeros((nmax,nmax))\n",
    "    for k in range(nmax):\n",
    "        for m in range(k//2+1):       \n",
    "            m2 = spc.factorial2(2*m, exact = True) * 1.0\n",
    "            kkk = spc.factorial(k, exact = True) * 1.0\n",
    "            k2_1_2m = spc.factorial2(2*k + 1 - 2*m, exact = True) * 1.0\n",
    "            p[k,k-2*m] = kkk * (2.0*k + 1.0 - 4.0*m) /m2/k2_1_2m\n",
    "    return p"
   ]
  },
  {
   "cell_type": "code",
   "execution_count": 5,
   "metadata": {
    "collapsed": true
   },
   "outputs": [],
   "source": [
    "def getH(q,g,p):\n",
    "    global nmax\n",
    "    h = np.zeros((nmax,nmax,nmax,nmax))\n",
    "    for m in range(nmax):\n",
    "        for l in range(nmax-m):\n",
    "            for k in range(nmax-m-l):\n",
    "                for i in range(k+1):\n",
    "                    for j in range(l+1):\n",
    "                        for n in range(i+j+1):\n",
    "                            h[k,m,l,n] += q[k,i] * g[m,l,j] * p[i+j,n]\n",
    "    return h"
   ]
  },
  {
   "cell_type": "code",
   "execution_count": 6,
   "metadata": {
    "collapsed": true
   },
   "outputs": [],
   "source": [
    "def getAlphaI(epsi,ai,constantCharge):\n",
    "    global eps,nmax\n",
    "    alpha_i = np.zeros(nmax)\n",
    "    if constantCharge:\n",
    "        for i in range(nmax):\n",
    "            v = i + 1.5\n",
    "            alpha_i[i] = eps*spc.kv(v,ai)/np.sqrt(ai)\n",
    "            v = i + 0.5\n",
    "            alpha_i[i] += i*(epsi-eps)*spc.kv(v,ai)/(ai**1.5)\n",
    "        return alpha_i\n",
    "    else:\n",
    "        for i in range(nmax):\n",
    "            v = i + 0.5\n",
    "            alpha_i[i] = spc.kv(v,ai)/ai**0.5\n",
    "        return alpha_i"
   ]
  },
  {
   "cell_type": "code",
   "execution_count": 7,
   "metadata": {
    "collapsed": true
   },
   "outputs": [],
   "source": [
    "def getBi(ai,R,h):\n",
    "    global nmax,pi\n",
    "    b_nm_i = np.zeros((nmax,nmax))\n",
    "    for n in range(nmax):                      \n",
    "        for m in range(nmax):\n",
    "            tmp = 0.0\n",
    "            for l in range(nmax - m):\n",
    "                for k in range(m+1):\n",
    "                    vu = np.float64(m+l+0.5)\n",
    "                    tmp1 = np.sqrt(pi/2.) * 2. * vu * spc.kv(vu,R) * spc.iv(vu,ai)/R**(k+0.5)/ai**(m-k+0.5)\n",
    "                    tmp += h[k,m,l,n] * (-1.)**k * spc.comb(m,k) * tmp1\n",
    "                    df2m = spc.factorial2(2*m-1,exact=True) * 1.0\n",
    "            b_nm_i[n,m] = tmp * df2m\n",
    "    return b_nm_i      "
   ]
  },
  {
   "cell_type": "code",
   "execution_count": 8,
   "metadata": {
    "collapsed": true
   },
   "outputs": [],
   "source": [
    "def getDBi(ai,R,h):\n",
    "    global nmax,pi\n",
    "    db_nm_i = np.zeros((nmax,nmax))\n",
    "    for n in range(nmax):                      # nmax = 7\n",
    "        for m in range(nmax):\n",
    "            tmp = 0.0\n",
    "            for l in range(6 - m):\n",
    "                for k in range(m+1):\n",
    "                    vu = np.float64(m+l+0.5)\n",
    "                    tmp1 = spc.kv(vu,R) * (spc.ivp(vu,ai)-spc.iv(vu,ai)*(m-k+0.5)/ai)\n",
    "                    tmp2 = np.sqrt(pi/2.) * vu * 2. * tmp1 / R**(k+0.5) / ai**(m-k+0.5)\n",
    "                    tmp += h[k,m,l,n] * (-1.)**k * spc.comb(m,k) * tmp2\n",
    "            df2m = spc.factorial2(2*m-1,exact=True) * 1.0\n",
    "            db_nm_i[n,m] = tmp * df2m\n",
    "    return db_nm_i"
   ]
  },
  {
   "cell_type": "code",
   "execution_count": 9,
   "metadata": {
    "collapsed": true
   },
   "outputs": [],
   "source": [
    "def getBettai(ai,epsi,b_nm,db_nm,constantCharge):\n",
    "    global nmax,eps\n",
    "    betta = np.zeros((nmax,nmax))\n",
    "    if constantCharge:\n",
    "        for n in range(nmax):\n",
    "            for m in range(nmax):\n",
    "                betta[n,m] = epsi * n / ai * b_nm[n,m] - eps * db_nm[n,m]\n",
    "        return betta\n",
    "    else:\n",
    "        betta = b_nm\n",
    "        return betta"
   ]
  },
  {
   "cell_type": "code",
   "execution_count": 10,
   "metadata": {
    "collapsed": true
   },
   "outputs": [],
   "source": [
    "def getMatrix(betta_1,betta_2,alpha_1,alpha_2):\n",
    "    global nmax\n",
    "    matrix = np.zeros((2*nmax,2*nmax))\n",
    "    for n in range(nmax):\n",
    "        matrix[n,n] = alpha_1[n]\n",
    "        matrix[nmax+n,nmax+n] = alpha_2[n]\n",
    "        for m in range(nmax):\n",
    "            matrix[n,nmax+m] += betta_1[n,m]\n",
    "            matrix[nmax+n,m] += betta_2[n,m]\n",
    "    return matrix"
   ]
  },
  {
   "cell_type": "code",
   "execution_count": 11,
   "metadata": {
    "collapsed": true
   },
   "outputs": [],
   "source": [
    "def getFrMem(constantCharge,a1,a2,q1,q2,k_d,fi1s,fi2s):\n",
    "    global nmax\n",
    "    free_member = np.zeros(2*nmax)\n",
    "    if constantCharge:\n",
    "        free_member[0] = k_d*q1/(a1**2)\n",
    "        free_member[nmax] = k_d*q2/(a2**2)\n",
    "        return free_member\n",
    "    else:\n",
    "        free_member[0] = fi1s\n",
    "        free_member[nmax] = fi2s\n",
    "        return free_member"
   ]
  },
  {
   "cell_type": "code",
   "execution_count": 12,
   "metadata": {
    "collapsed": true
   },
   "outputs": [],
   "source": [
    "def getKsi(series_coefficient,ai,b_nm_i,d_b_nm_i):\n",
    "    global nmax\n",
    "    ksi = np.zeros(nmax)\n",
    "    for n in range(nmax):\n",
    "        ksi[n] = series_coefficient[n] * n * spc.kv(n+0.5,ai) / np.sqrt(ai)\n",
    "        ksi[n] -= series_coefficient[n]  * spc.kv(n+1.5,ai) * np.sqrt(ai)\n",
    "        for m in range(nmax):\n",
    "            ksi[n] += series_coefficient[nmax+m]*ai*d_b_nm_i[n,m]\n",
    "    return ksi"
   ]
  },
  {
   "cell_type": "code",
   "execution_count": 13,
   "metadata": {
    "collapsed": true
   },
   "outputs": [],
   "source": [
    "def getPsi(series_coefficient,ai,b_nm_i,d_b_nm_i):\n",
    "    global nmax\n",
    "    psi = np.zeros(nmax)\n",
    "    for n in range(nmax):\n",
    "        psi[n] = series_coefficient[n] * spc.kv(n+0.5,ai) / np.sqrt(ai)\n",
    "        for m in range(nmax):\n",
    "            psi[n] += series_coefficient[nmax+m] * b_nm_i[n,m]  \n",
    "    return psi"
   ]
  },
  {
   "cell_type": "code",
   "execution_count": 14,
   "metadata": {
    "collapsed": true
   },
   "outputs": [],
   "source": [
    "def getForce19(ksi,psi):\n",
    "    global nmax\n",
    "    f19 = np.float64(0)\n",
    "    for n in range(1,nmax):\n",
    "        tmp = ksi[n-1] - np.float64(n-1) * psi[n-1]\n",
    "        f19 += np.float64(n) / ((2*n - 1) * (2*n + 1)) * (ksi[n] + (n + 1) * psi[n]) *tmp\n",
    "    f19 *= eps\n",
    "    return f19"
   ]
  },
  {
   "cell_type": "code",
   "execution_count": 15,
   "metadata": {
    "collapsed": true
   },
   "outputs": [],
   "source": [
    "def getCapacitance(matrix,dBnm1,dBnm2,fi1s,fi2s):\n",
    "    global a1r,a2r,eps,eps1,eps2,k_d,nmax\n",
    "    a1 = a1r * k_d\n",
    "    a2 = a2r * k_d\n",
    "    C = np.zeros(4)\n",
    "    # 1st step\n",
    "    frMem = np.zeros(2*nmax)\n",
    "    frMem[0] = fi1s\n",
    "    bb = sp.linalg.lu_factor(matrix)\n",
    "    seriesCoefficient = sp.linalg.lu_solve(bb,frMem,0)\n",
    "    Q1 = seriesCoefficient[0] * a1**0.5 * spc.kv(1.5,a1)\n",
    "    tmp = 0.\n",
    "    for i in range(nmax):\n",
    "        tmp += seriesCoefficient[nmax+i] * a1 * dBnm1[0,i]\n",
    "    Q1 = (Q1 - tmp) * eps * a1r\n",
    "    Q2 = seriesCoefficient[nmax] * a2**0.5 * spc.kv(1.5,a2)\n",
    "    tmp = 0.\n",
    "    for i in range(nmax):\n",
    "        tmp += seriesCoefficient[i] * a2 * dBnm2[0,i]\n",
    "    Q2 = (Q2 - tmp) * eps * a2r\n",
    "    C[0] = Q1 / fi1s\n",
    "    C[1] = Q2 / fi1s\n",
    "     # 2st step\n",
    "    frMem = np.zeros(2*nmax)\n",
    "    frMem[nmax] = fi2s\n",
    "    bb = sp.linalg.lu_factor(matrix)\n",
    "    seriesCoefficient = sp.linalg.lu_solve(bb,frMem,0)\n",
    "    Q1 = seriesCoefficient[0] * a1**0.5 * spc.kv(1.5,a1)\n",
    "    tmp = 0.\n",
    "    for i in range(nmax):\n",
    "        tmp += seriesCoefficient[nmax+i] * a1 * dBnm1[0,i]\n",
    "    Q1 = (Q1 - tmp) * eps * a1r\n",
    "    Q2 = seriesCoefficient[nmax] * a2**0.5 * spc.kv(1.5,a2)\n",
    "    tmp = 0.\n",
    "    for i in range(nmax):\n",
    "        tmp += seriesCoefficient[i] * a2 * dBnm2[0,i]\n",
    "    Q2 = (Q2 - tmp) * eps * a2r\n",
    "    C[2] = Q1 / fi2s\n",
    "    C[3] = Q2 / fi2s\n",
    "    return C"
   ]
  },
  {
   "cell_type": "code",
   "execution_count": 16,
   "metadata": {
    "collapsed": true
   },
   "outputs": [],
   "source": [
    "def getPpotential(matrix,Bnm1,Bnm2,q1,q2):\n",
    "    global a1r,a2r,eps,eps1,eps2,k_d,nmax\n",
    "    a1 = a1r * k_d\n",
    "    a2 = a2r * k_d\n",
    "    S = np.zeros(4)\n",
    "    frMem = np.zeros(2*nmax)\n",
    "    frMem[0] = k_d*q1/(a1**2)\n",
    "    bb = sp.linalg.lu_factor(matrix)\n",
    "    seriesCoefficient = sp.linalg.lu_solve(bb,frMem,0)\n",
    "    fi1s = seriesCoefficient[0] * spc.kv(0.5,a1) / a1**0.5\n",
    "    fi2s = seriesCoefficient[nmax] * spc.kv(0.5,a2) / a2**0.5\n",
    "    for i in range(nmax):\n",
    "        fi1s += seriesCoefficient[nmax+i] * Bnm1[0,i]\n",
    "        fi2s += seriesCoefficient[i] * Bnm2[0,i]\n",
    "    S[0] = fi1s / q1\n",
    "    S[1] = fi2s / q1\n",
    "    frMem = np.zeros(2*nmax)\n",
    "    frMem[nmax] = k_d*q2/(a2**2)\n",
    "    bb = sp.linalg.lu_factor(matrix)\n",
    "    seriesCoefficient = sp.linalg.lu_solve(bb,frMem,0)\n",
    "    fi1s = seriesCoefficient[0] * spc.kv(0.5,a1) / a1**0.5\n",
    "    fi2s = seriesCoefficient[nmax] * spc.kv(0.5,a2) / a2**0.5\n",
    "    for i in range(nmax):\n",
    "        fi1s += seriesCoefficient[nmax+i] * Bnm1[0,i]\n",
    "        fi2s += seriesCoefficient[i] * Bnm2[0,i]\n",
    "    S[2] = fi1s / q2\n",
    "    S[3] = fi2s / q2\n",
    "    return S"
   ]
  },
  {
   "cell_type": "markdown",
   "metadata": {},
   "source": [
    "### plot drawing"
   ]
  },
  {
   "cell_type": "code",
   "execution_count": 17,
   "metadata": {
    "collapsed": true
   },
   "outputs": [],
   "source": [
    "def drawCapacitancePlot(capacitanceData):\n",
    "    p2,p3,p4 = plt.plot(capacitanceData[0],capacitanceData[1]),plt.plot(capacitanceData[0],capacitanceData[2]),plt.plot(capacitanceData[0],capacitanceData[4])\n",
    "    plt.xscale('log')\n",
    "    plt.grid()\n",
    "    plt.title('capacitance depending on distance between particles surfaces')\n",
    "    plt.xlabel('L(cm)')\n",
    "    plt.ylabel('$C_{1,1}$')\n",
    "    plt.show()"
   ]
  },
  {
   "cell_type": "code",
   "execution_count": 18,
   "metadata": {
    "collapsed": true
   },
   "outputs": [],
   "source": [
    "def drawCapacityPlot(capacitanceData):\n",
    "    p5,p6 = plt.plot(capacitanceData[0],capacitanceData[1]+capacitanceData[2]),plt.plot(capacitanceData[0],capacitanceData[3]+capacitanceData[4])\n",
    "    plt.xscale('log')\n",
    "    plt.grid()\n",
    "    plt.title('capacity depending on distance between particles surfaces')\n",
    "    plt.xlabel('L(cm)')\n",
    "    plt.ylabel('$C_{1},C_{2}$')\n",
    "    plt.show()"
   ]
  },
  {
   "cell_type": "code",
   "execution_count": 19,
   "metadata": {
    "collapsed": true
   },
   "outputs": [],
   "source": [
    "def drawForcePlot(forceData):\n",
    "    p1 = plt.plot(forceData[0],-forceData[1])\n",
    "    plt.xscale('log')\n",
    "    plt.grid()\n",
    "    plt.title('force depending on distance between particles surfaces')\n",
    "    plt.xlabel('L(cm)')\n",
    "    plt.ylabel('$F_{1z} R^{2} / q_1 q_2$')\n",
    "    plt.show()"
   ]
  },
  {
   "cell_type": "markdown",
   "metadata": {},
   "source": [
    "### force calculating cycle"
   ]
  },
  {
   "cell_type": "code",
   "execution_count": 20,
   "metadata": {
    "collapsed": true
   },
   "outputs": [],
   "source": [
    "def getForcePlasmaModified(constantCharge,a1r,a2r,q1r,k_d):\n",
    "    global EULER,pi,eee,L_min,L_max,eps1,eps2,eps,nmax,msteps\n",
    "    a1 = k_d * a1r\n",
    "    a2 = k_d * a2r\n",
    "    \n",
    "    q1 = q1r * eee\n",
    "    q2 = q1 * a2r / a1r\n",
    "    \n",
    "    q1inf = q1 * (1. + a1)\n",
    "    q2inf = q2 * (1. + a2)\n",
    "    \n",
    "    fi1s = q1inf * k_d / a1 / (1.+a1)\n",
    "    fi2s = q2inf * k_d / a2 / (1.+a2)\n",
    "    if msteps == 1:\n",
    "        dL = 1.0\n",
    "    else:\n",
    "        dL = np.exp(np.log((L_max/L_min))/(msteps-1.))\n",
    "    LL = L_min/dL\n",
    "    \n",
    "    p = getP(nmax)\n",
    "    g = getG(nmax)\n",
    "    q = getQ(nmax)\n",
    "    h = getH(q,g,p)\n",
    "    \n",
    "    alpha1 = getAlphaI(eps1,a1,constantCharge)\n",
    "    alpha2 = getAlphaI(eps2,a2,constantCharge)\n",
    "    \n",
    "    forceData = np.zeros((2,msteps))\n",
    "    \n",
    "    capacitanceData = np.zeros((5,msteps))\n",
    "    \n",
    "    t1 = time.time()\n",
    "    for steps in range(msteps):\n",
    "        LL *= dL\n",
    "        Rr = a1r + a2r + LL\n",
    "        R = Rr * k_d\n",
    "        # series coefficients\n",
    "        Bnm1 = getBi(a1,R,h)\n",
    "        Bnm2 = getBi(a2,R,h)\n",
    "        dBnm1 = getDBi(a1,R,h)\n",
    "        dBnm2 = getDBi(a2,R,h)\n",
    "        # coefficients for system\n",
    "        betta1 = getBettai(a1,eps1,Bnm1,dBnm1,constantCharge)\n",
    "        betta2 = getBettai(a2,eps2,Bnm2,dBnm2,constantCharge)\n",
    "        # linear system\n",
    "        matrix = getMatrix(betta1,betta2,alpha1,alpha2)\n",
    "        fr_mem = getFrMem(constantCharge,a1,a2,q1,q2,k_d,fi1s,fi2s)\n",
    "        # capacitance\n",
    "        if constantCharge:\n",
    "            Potential = getPpotential(matrix,Bnm1,Bnm2,q1,q2)\n",
    "        else:\n",
    "            Capacitance = getCapacitance(matrix,dBnm1,dBnm2,fi1s,fi2s)\n",
    "        # LU decomp\n",
    "        bb = sp.linalg.lu_factor(matrix)\n",
    "        series_coefficient = sp.linalg.lu_solve(bb,fr_mem,0)\n",
    "        ksi1 = getKsi(series_coefficient,a1,Bnm1,dBnm1)\n",
    "        psi1 = getPsi(series_coefficient,a1,Bnm1,dBnm1)\n",
    "        f_qul = q1 * q2 / Rr**2\n",
    "        f_dlvo = q1inf * q2inf / (1.+a1) / (1.+a2) * np.exp(a1+a2-R)*(1.+R)/Rr**2\n",
    "        if constantCharge:\n",
    "            normalized_force_19 = getForce19(ksi1,psi1)/f_qul\n",
    "        else:\n",
    "            normalized_force_19 = getForce19(ksi1,psi1)/f_dlvo\n",
    "        forceData[0,steps],forceData[1,steps] = LL,normalized_force_19\n",
    "        if not constantCharge:\n",
    "            capacitanceData[0,steps]=LL\n",
    "            for i in range(1,5):\n",
    "                capacitanceData[i,steps]=Capacitance[i-1]\n",
    "        \n",
    "    t2 = time.time()\n",
    "    return forceData,t2-t1,capacitanceData"
   ]
  },
  {
   "cell_type": "code",
   "execution_count": 21,
   "metadata": {
    "collapsed": true
   },
   "outputs": [],
   "source": [
    "forceData,T,capacitanceData = getForcePlasmaModified(False,a1r,a2r,q1r,k_d)"
   ]
  },
  {
   "cell_type": "code",
   "execution_count": 22,
   "metadata": {
    "collapsed": false
   },
   "outputs": [
    {
     "data": {
      "image/png": "[encoded data removed]",
      "text/plain": [
       "<matplotlib.figure.Figure at 0x2789358>"
      ]
     },
     "metadata": {},
     "output_type": "display_data"
    }
   ],
   "source": [
    "drawForcePlot(forceData)"
   ]
  },
  {
   "cell_type": "code",
   "execution_count": 23,
   "metadata": {
    "collapsed": false
   },
   "outputs": [
    {
     "data": {
      "image/png": "[encoded data removed]",
      "text/plain": [
       "<matplotlib.figure.Figure at 0x7d86ef0>"
      ]
     },
     "metadata": {},
     "output_type": "display_data"
    }
   ],
   "source": [
    "drawCapacitancePlot(capacitanceData)"
   ]
  },
  {
   "cell_type": "code",
   "execution_count": 24,
   "metadata": {
    "collapsed": false
   },
   "outputs": [
    {
     "data": {
      "image/png": "[encoded data removed]",
      "text/plain": [
       "<matplotlib.figure.Figure at 0x7e81588>"
      ]
     },
     "metadata": {},
     "output_type": "display_data"
    }
   ],
   "source": [
    "drawCapacityPlot(capacitanceData)"
   ]
  },
  {
   "cell_type": "code",
   "execution_count": 25,
   "metadata": {
    "collapsed": true
   },
   "outputs": [],
   "source": [
    "a1r,a2r = 10.0e-4,10.0e-4\n",
    "forceConstantPotentialData_10_10,T,capacitanceData = getForcePlasmaModified(False,a1r,a2r,q1r,k_d)\n",
    "a1r,a2r = 10.0e-5,10.0e-4\n",
    "forceConstantPotentialData_1_10,T,capacitanceData = getForcePlasmaModified(False,a1r,a2r,q1r,k_d)\n",
    "a1r,a2r = 10.0e-4,10.0e-4\n",
    "forceConstantChargeData_10_10,T,capacitanceData = getForcePlasmaModified(True,a1r,a2r,q1r,k_d)\n",
    "a1r,a2r = 10.0e-5,10.0e-4\n",
    "forceConstantChargeData_1_10,T,capacitanceData = getForcePlasmaModified(True,a1r,a2r,q1r,k_d)"
   ]
  },
  {
   "cell_type": "code",
   "execution_count": 31,
   "metadata": {
    "collapsed": false
   },
   "outputs": [
    {
     "data": {
      "image/png": "[encoded data removed]",
      "text/plain": [
       "<matplotlib.figure.Figure at 0xd4d3b00>"
      ]
     },
     "metadata": {},
     "output_type": "display_data"
    }
   ],
   "source": [
    "fig, axs = plt.subplots(2, 2, figsize = (12,9))\n",
    "\n",
    "axs[0, 0].plot(forceConstantPotentialData_10_10[0],-forceConstantPotentialData_10_10[1])\n",
    "axs[0, 0].set_title('Constant Potential $a_1=10,a_2=10$', fontsize=10)\n",
    "axs[0, 0].set_xscale('log')\n",
    "axs[0, 0].grid()\n",
    "axs[0, 0].set_xlabel('L(cm)', fontsize=10)\n",
    "axs[0, 0].set_ylabel('$F_{1z}/ F_{DLVO}$', fontsize=10)\n",
    "\n",
    "axs[0, 1].plot(forceConstantPotentialData_1_10[0],-forceConstantPotentialData_1_10[1])\n",
    "axs[0, 1].set_title('Constant Potential $a_1=1,a_2=10$', fontsize=10)\n",
    "axs[0, 1].set_xscale('log')\n",
    "axs[0, 1].grid()\n",
    "axs[0, 1].set_xlabel('L(cm)', fontsize=10)\n",
    "axs[0, 1].set_ylabel('$F_{1z}/ F_{DLVO}$', fontsize=10)\n",
    "\n",
    "axs[1, 0].plot(forceConstantChargeData_10_10[0],-forceConstantChargeData_10_10[1])\n",
    "axs[1, 0].set_title('Constant Charge $a_1=10,a_2=10$', fontsize=10)\n",
    "axs[1, 0].set_xscale('log')\n",
    "axs[1, 0].grid()\n",
    "axs[1, 0].set_xlabel('L(cm)', fontsize=10)\n",
    "axs[1, 0].set_ylabel('$F_{1z} R^{2} / q_1 q_2$', fontsize=10)\n",
    "\n",
    "axs[1, 1].plot(forceConstantChargeData_1_10[0],-forceConstantChargeData_1_10[1])\n",
    "axs[1, 1].set_title('Constant Charge $a_1=1,a_2=10$', fontsize=10)\n",
    "axs[1, 1].set_xscale('log')\n",
    "axs[1, 1].grid()\n",
    "axs[1, 1].set_xlabel('L(cm)', fontsize=10)\n",
    "axs[1, 1].set_ylabel('$F_{1z} R^{2} / q_1 q_2$', fontsize=10)\n",
    "\n",
    "fig.tight_layout()\n",
    "\n",
    "plt.show()"
   ]
  },
  {
   "cell_type": "code",
   "execution_count": null,
   "metadata": {
    "collapsed": false
   },
   "outputs": [],
   "source": []
  },
  {
   "cell_type": "code",
   "execution_count": null,
   "metadata": {
    "collapsed": true
   },
   "outputs": [],
   "source": []
  }
 ],
 "metadata": {
  "anaconda-cloud": {},
  "kernelspec": {
   "display_name": "Python [default]",
   "language": "python",
   "name": "python2"
  },
  "language_info": {
   "codemirror_mode": {
    "name": "ipython",
    "version": 2
   },
   "file_extension": ".py",
   "mimetype": "text/x-python",
   "name": "python",
   "nbconvert_exporter": "python",
   "pygments_lexer": "ipython2",
   "version": "2.7.12"
  }
 },
 "nbformat": 4,
 "nbformat_minor": 1
}
